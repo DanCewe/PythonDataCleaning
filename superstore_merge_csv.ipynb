{
 "cells": [
  {
   "cell_type": "markdown",
   "id": "0e78a86c-8518-4036-b175-2040b880b9d4",
   "metadata": {},
   "source": [
    "# Merge multiple .csv files into one dataframe"
   ]
  },
  {
   "cell_type": "code",
   "execution_count": 1,
   "id": "7f3e8d55-7788-4489-8760-2e2867b1e7e8",
   "metadata": {
    "tags": []
   },
   "outputs": [],
   "source": [
    "from pathlib import Path\n",
    "import pandas as pd\n",
    "import seaborn as sns"
   ]
  },
  {
   "cell_type": "code",
   "execution_count": 2,
   "id": "2f4e0d46-77c0-4f8a-b5a0-e261eb31a2bc",
   "metadata": {
    "tags": []
   },
   "outputs": [],
   "source": [
    "df_orders      = pd.read_csv(Path.cwd() / 'orders.zip', encoding='unicode escape')\n",
    "df_returns     = pd.read_csv(Path.cwd() / 'returns.zip', encoding='unicode escape')\n",
    "df_customers   = pd.read_csv(Path.cwd() / 'customers.zip', encoding='unicode escape')\n",
    "df_products    = pd.read_csv(Path.cwd() / 'products.zip', encoding='unicode escape')\n",
    "df_regions     = pd.read_csv(Path.cwd() / 'regions.zip', encoding='unicode escape')"
   ]
  },
  {
   "cell_type": "markdown",
   "id": "aa613f9f-8c31-4ca1-902f-fb17f7a2f042",
   "metadata": {},
   "source": [
    "# Convert date columns to datetime format"
   ]
  },
  {
   "cell_type": "code",
   "execution_count": 3,
   "id": "18630a7e-015e-4bcb-81a9-c50a92f8ef8b",
   "metadata": {
    "tags": []
   },
   "outputs": [],
   "source": [
    "df_orders['order_date'] = pd.to_datetime(df_orders['order_date'], format='%d/%m/%Y %H:%M')\n",
    "df_orders['ship_date'] = pd.to_datetime(df_orders['ship_date'], format='%d/%m/%Y %H:%M')\n",
    "df_returns['return_date'] = pd.to_datetime(df_returns['return_date'], format='%d/%m/%Y %H:%M')"
   ]
  },
  {
   "cell_type": "markdown",
   "id": "a240b89e-405a-4f82-b755-9a2f395f6b62",
   "metadata": {},
   "source": [
    "# Remove rows for years 2015 and 2020 because they're incomplete and may skew the analysis due to the effect of seasonality"
   ]
  },
  {
   "cell_type": "code",
   "execution_count": 4,
   "id": "38a10072-d092-442b-8c4a-2d6bc5c0f9d6",
   "metadata": {
    "tags": []
   },
   "outputs": [],
   "source": [
    "df_orders.drop(df_orders.query(\"order_date >= '01/01/2015 00:00' & order_date <= '31/12/2015 23:59'\").index, inplace=True)\n",
    "df_orders.drop(df_orders.query(\"order_date >= '01/01/2020 00:00' & order_date <= '31/12/2020 23:59'\").index, inplace=True)\n",
    "\n",
    "df_returns.drop(df_returns.query(\"return_date >= '01/01/2015 00:00' & return_date <= '31/12/2015 23:59'\").index, inplace=True)\n",
    "df_returns.drop(df_returns.query(\"return_date >= '01/01/2020 00:00' & return_date <= '31/12/2020 23:59'\").index, inplace=True)"
   ]
  },
  {
   "cell_type": "markdown",
   "id": "8f5c99ec-0ac0-4ab5-aafe-a8735a4cec21",
   "metadata": {},
   "source": [
    "# get dataframe info to find columns to merge on"
   ]
  },
  {
   "cell_type": "code",
   "execution_count": 5,
   "id": "1e3596e4-fa8a-448f-adf8-5a250eb8abb0",
   "metadata": {
    "tags": []
   },
   "outputs": [
    {
     "name": "stdout",
     "output_type": "stream",
     "text": [
      "<class 'pandas.core.frame.DataFrame'>\n",
      "RangeIndex: 810642 entries, 0 to 810641\n",
      "Data columns (total 12 columns):\n",
      " #   Column       Non-Null Count   Dtype         \n",
      "---  ------       --------------   -----         \n",
      " 0   order_id     810642 non-null  object        \n",
      " 1   order_date   810642 non-null  datetime64[ns]\n",
      " 2   ship_date    810642 non-null  datetime64[ns]\n",
      " 3   ship_mode    810642 non-null  object        \n",
      " 4   customer_id  810642 non-null  object        \n",
      " 5   product_id   810642 non-null  object        \n",
      " 6   sales        810642 non-null  float64       \n",
      " 7   quantity     810642 non-null  int64         \n",
      " 8   discount     810642 non-null  float64       \n",
      " 9   profit       810642 non-null  float64       \n",
      " 10  postal_code  156251 non-null  float64       \n",
      " 11  region_id    810484 non-null  float64       \n",
      "dtypes: datetime64[ns](2), float64(5), int64(1), object(4)\n",
      "memory usage: 74.2+ MB\n",
      "None\n",
      "\n",
      "<class 'pandas.core.frame.DataFrame'>\n",
      "RangeIndex: 39895 entries, 0 to 39894\n",
      "Data columns (total 5 columns):\n",
      " #   Column           Non-Null Count  Dtype         \n",
      "---  ------           --------------  -----         \n",
      " 0   order_id         39895 non-null  object        \n",
      " 1   return_date      39895 non-null  datetime64[ns]\n",
      " 2   return_quantity  39895 non-null  int64         \n",
      " 3   reason_returned  39895 non-null  object        \n",
      " 4   product_id       39895 non-null  object        \n",
      "dtypes: datetime64[ns](1), int64(1), object(3)\n",
      "memory usage: 1.5+ MB\n",
      "None\n",
      "\n",
      "<class 'pandas.core.frame.DataFrame'>\n",
      "RangeIndex: 1590 entries, 0 to 1589\n",
      "Data columns (total 3 columns):\n",
      " #   Column         Non-Null Count  Dtype \n",
      "---  ------         --------------  ----- \n",
      " 0   customer_id    1590 non-null   object\n",
      " 1   customer_name  1590 non-null   object\n",
      " 2   segment        1590 non-null   object\n",
      "dtypes: object(3)\n",
      "memory usage: 37.4+ KB\n",
      "None\n",
      "\n",
      "<class 'pandas.core.frame.DataFrame'>\n",
      "RangeIndex: 10292 entries, 0 to 10291\n",
      "Data columns (total 5 columns):\n",
      " #   Column                    Non-Null Count  Dtype  \n",
      "---  ------                    --------------  -----  \n",
      " 0   product_id                10292 non-null  object \n",
      " 1   category                  10292 non-null  object \n",
      " 2   sub_category              10292 non-null  object \n",
      " 3   product_name              10292 non-null  object \n",
      " 4   product_cost_to_consumer  10292 non-null  float64\n",
      "dtypes: float64(1), object(4)\n",
      "memory usage: 402.2+ KB\n",
      "None\n",
      "\n",
      "<class 'pandas.core.frame.DataFrame'>\n",
      "RangeIndex: 149 entries, 0 to 148\n",
      "Data columns (total 6 columns):\n",
      " #   Column        Non-Null Count  Dtype \n",
      "---  ------        --------------  ----- \n",
      " 0   region_id     149 non-null    int64 \n",
      " 1   country_code  149 non-null    object\n",
      " 2   country       149 non-null    object\n",
      " 3   region        149 non-null    object\n",
      " 4   sub_region    149 non-null    object\n",
      " 5   salesperson   149 non-null    object\n",
      "dtypes: int64(1), object(5)\n",
      "memory usage: 7.1+ KB\n",
      "None\n",
      "\n"
     ]
    }
   ],
   "source": [
    "print(f\"{df_orders.info()}\\n\")\n",
    "print(f\"{df_returns.info()}\\n\")\n",
    "print(f\"{df_customers.info()}\\n\")\n",
    "print(f\"{df_products.info()}\\n\")\n",
    "print(f\"{df_regions.info()}\\n\")"
   ]
  },
  {
   "cell_type": "markdown",
   "id": "208fe8f1-93c4-4364-a3c9-b2f3e3afc71f",
   "metadata": {},
   "source": [
    "# Merge the individual dataframes into one.  This should make things easier in Tableau or Power BI."
   ]
  },
  {
   "cell_type": "code",
   "execution_count": 6,
   "id": "fb7234f8-e3d2-495b-a1e1-d427100272b7",
   "metadata": {
    "tags": []
   },
   "outputs": [],
   "source": [
    "df_merged = pd.merge(df_orders, df_returns, on=['order_id', 'product_id'], how='outer')\n",
    "df_merged = pd.merge(df_merged, df_customers, on=['customer_id'], how='outer')\n",
    "df_merged = pd.merge(df_merged, df_products, on=['product_id'], how='outer')\n",
    "df_merged = pd.merge(df_merged, df_regions, on=['region_id'], how='outer')"
   ]
  },
  {
   "cell_type": "markdown",
   "id": "ef7bfe99-7633-4f3e-a93a-c6d7894b0f38",
   "metadata": {},
   "source": [
    "# Delete the original individual dataframes to save memory because we don't need them anymore"
   ]
  },
  {
   "cell_type": "code",
   "execution_count": 7,
   "id": "b3889b41-c01a-4212-bf8d-608e060ac85b",
   "metadata": {
    "tags": []
   },
   "outputs": [],
   "source": [
    "del [df_orders, df_returns, df_customers, df_products, df_regions]"
   ]
  },
  {
   "cell_type": "markdown",
   "id": "ea6cf242-dbb5-4f79-ab42-233dcf176f83",
   "metadata": {},
   "source": [
    "## Get the shape of the merged dataframe"
   ]
  },
  {
   "cell_type": "code",
   "execution_count": 8,
   "id": "837cf9d9-175b-43e2-bd8a-058f9256ed88",
   "metadata": {},
   "outputs": [
    {
     "data": {
      "text/plain": [
       "(812673, 26)"
      ]
     },
     "execution_count": 8,
     "metadata": {},
     "output_type": "execute_result"
    }
   ],
   "source": [
    "df_merged.shape"
   ]
  },
  {
   "cell_type": "markdown",
   "id": "27a44c49-a124-4c44-ba72-7dd3bc8c458c",
   "metadata": {},
   "source": [
    "## info"
   ]
  },
  {
   "cell_type": "code",
   "execution_count": 9,
   "id": "26142745-3bf3-45ab-b0e9-e2755d9fc637",
   "metadata": {},
   "outputs": [
    {
     "name": "stdout",
     "output_type": "stream",
     "text": [
      "<class 'pandas.core.frame.DataFrame'>\n",
      "RangeIndex: 812673 entries, 0 to 812672\n",
      "Data columns (total 26 columns):\n",
      " #   Column                    Non-Null Count   Dtype         \n",
      "---  ------                    --------------   -----         \n",
      " 0   order_id                  811087 non-null  object        \n",
      " 1   order_date                810642 non-null  datetime64[ns]\n",
      " 2   ship_date                 810642 non-null  datetime64[ns]\n",
      " 3   ship_mode                 810642 non-null  object        \n",
      " 4   customer_id               811437 non-null  object        \n",
      " 5   product_id                811878 non-null  object        \n",
      " 6   sales                     810642 non-null  float64       \n",
      " 7   quantity                  810642 non-null  float64       \n",
      " 8   discount                  810642 non-null  float64       \n",
      " 9   profit                    810642 non-null  float64       \n",
      " 10  postal_code               156251 non-null  float64       \n",
      " 11  region_id                 810484 non-null  float64       \n",
      " 12  return_date               39895 non-null   datetime64[ns]\n",
      " 13  return_quantity           39895 non-null   float64       \n",
      " 14  reason_returned           39895 non-null   object        \n",
      " 15  customer_name             811437 non-null  object        \n",
      " 16  segment                   811437 non-null  object        \n",
      " 17  category                  811878 non-null  object        \n",
      " 18  sub_category              811878 non-null  object        \n",
      " 19  product_name              811878 non-null  object        \n",
      " 20  product_cost_to_consumer  811878 non-null  float64       \n",
      " 21  country_code              810484 non-null  object        \n",
      " 22  country                   810484 non-null  object        \n",
      " 23  region                    810484 non-null  object        \n",
      " 24  sub_region                810484 non-null  object        \n",
      " 25  salesperson               810484 non-null  object        \n",
      "dtypes: datetime64[ns](3), float64(8), object(15)\n",
      "memory usage: 161.2+ MB\n"
     ]
    }
   ],
   "source": [
    "df_merged.info()"
   ]
  },
  {
   "cell_type": "markdown",
   "id": "1379340c-84df-488f-a60f-c4c9598f2277",
   "metadata": {},
   "source": [
    "## get a summary of NULL values"
   ]
  },
  {
   "cell_type": "code",
   "execution_count": 10,
   "id": "4a4d7802-7aae-4358-9eae-98486a19765b",
   "metadata": {},
   "outputs": [
    {
     "data": {
      "text/plain": [
       "order_id                      1586\n",
       "order_date                    2031\n",
       "ship_date                     2031\n",
       "ship_mode                     2031\n",
       "customer_id                   1236\n",
       "product_id                     795\n",
       "sales                         2031\n",
       "quantity                      2031\n",
       "discount                      2031\n",
       "profit                        2031\n",
       "postal_code                 656422\n",
       "region_id                     2189\n",
       "return_date                 772778\n",
       "return_quantity             772778\n",
       "reason_returned             772778\n",
       "customer_name                 1236\n",
       "segment                       1236\n",
       "category                       795\n",
       "sub_category                   795\n",
       "product_name                   795\n",
       "product_cost_to_consumer       795\n",
       "country_code                  2189\n",
       "country                       2189\n",
       "region                        2189\n",
       "sub_region                    2189\n",
       "salesperson                   2189\n",
       "dtype: int64"
      ]
     },
     "execution_count": 10,
     "metadata": {},
     "output_type": "execute_result"
    }
   ],
   "source": [
    "pd.isnull (df_merged).sum()"
   ]
  },
  {
   "cell_type": "markdown",
   "id": "91346144-b60c-4f36-a706-e5c8313ad3a3",
   "metadata": {},
   "source": [
    "## display columns"
   ]
  },
  {
   "cell_type": "code",
   "execution_count": 11,
   "id": "0fc37fd5-4a9a-4ff5-a04b-0d274f0e42d1",
   "metadata": {},
   "outputs": [
    {
     "data": {
      "text/plain": [
       "Index(['order_id', 'order_date', 'ship_date', 'ship_mode', 'customer_id',\n",
       "       'product_id', 'sales', 'quantity', 'discount', 'profit', 'postal_code',\n",
       "       'region_id', 'return_date', 'return_quantity', 'reason_returned',\n",
       "       'customer_name', 'segment', 'category', 'sub_category', 'product_name',\n",
       "       'product_cost_to_consumer', 'country_code', 'country', 'region',\n",
       "       'sub_region', 'salesperson'],\n",
       "      dtype='object')"
      ]
     },
     "execution_count": 11,
     "metadata": {},
     "output_type": "execute_result"
    }
   ],
   "source": [
    "df_merged.columns"
   ]
  },
  {
   "cell_type": "markdown",
   "id": "4136de67-fad4-4ffe-ae54-d69c4d3fffaa",
   "metadata": {},
   "source": [
    "## Get summary statistics for numeric columns"
   ]
  },
  {
   "cell_type": "code",
   "execution_count": 12,
   "id": "22e5524e-f5c8-4923-affa-23203f2ee653",
   "metadata": {},
   "outputs": [
    {
     "data": {
      "text/html": [
       "<div>\n",
       "<style scoped>\n",
       "    .dataframe tbody tr th:only-of-type {\n",
       "        vertical-align: middle;\n",
       "    }\n",
       "\n",
       "    .dataframe tbody tr th {\n",
       "        vertical-align: top;\n",
       "    }\n",
       "\n",
       "    .dataframe thead th {\n",
       "        text-align: right;\n",
       "    }\n",
       "</style>\n",
       "<table border=\"1\" class=\"dataframe\">\n",
       "  <thead>\n",
       "    <tr style=\"text-align: right;\">\n",
       "      <th></th>\n",
       "      <th>order_date</th>\n",
       "      <th>ship_date</th>\n",
       "      <th>sales</th>\n",
       "      <th>quantity</th>\n",
       "      <th>discount</th>\n",
       "      <th>profit</th>\n",
       "      <th>postal_code</th>\n",
       "      <th>region_id</th>\n",
       "      <th>return_date</th>\n",
       "      <th>return_quantity</th>\n",
       "      <th>product_cost_to_consumer</th>\n",
       "    </tr>\n",
       "  </thead>\n",
       "  <tbody>\n",
       "    <tr>\n",
       "      <th>count</th>\n",
       "      <td>810642</td>\n",
       "      <td>810642</td>\n",
       "      <td>810642.000000</td>\n",
       "      <td>810642.000000</td>\n",
       "      <td>810642.000000</td>\n",
       "      <td>810642.000000</td>\n",
       "      <td>156251.000000</td>\n",
       "      <td>810484.000000</td>\n",
       "      <td>39895</td>\n",
       "      <td>39895.000000</td>\n",
       "      <td>811878.000000</td>\n",
       "    </tr>\n",
       "    <tr>\n",
       "      <th>mean</th>\n",
       "      <td>2019-04-03 22:55:52.596090368</td>\n",
       "      <td>2019-04-06 12:08:53.870191872</td>\n",
       "      <td>245.631329</td>\n",
       "      <td>3.474097</td>\n",
       "      <td>0.250913</td>\n",
       "      <td>1.244791</td>\n",
       "      <td>55418.627426</td>\n",
       "      <td>6373.884152</td>\n",
       "      <td>2019-04-07 07:02:55.330242304</td>\n",
       "      <td>1.046347</td>\n",
       "      <td>71.427826</td>\n",
       "    </tr>\n",
       "    <tr>\n",
       "      <th>min</th>\n",
       "      <td>2018-01-01 00:00:00</td>\n",
       "      <td>2018-01-01 00:00:00</td>\n",
       "      <td>0.440000</td>\n",
       "      <td>1.000000</td>\n",
       "      <td>0.000000</td>\n",
       "      <td>-6599.980000</td>\n",
       "      <td>1040.000000</td>\n",
       "      <td>38.000000</td>\n",
       "      <td>2018-01-01 00:00:00</td>\n",
       "      <td>1.000000</td>\n",
       "      <td>0.420000</td>\n",
       "    </tr>\n",
       "    <tr>\n",
       "      <th>25%</th>\n",
       "      <td>2018-10-26 00:00:00</td>\n",
       "      <td>2018-10-29 00:00:00</td>\n",
       "      <td>30.480000</td>\n",
       "      <td>2.000000</td>\n",
       "      <td>0.130000</td>\n",
       "      <td>0.100000</td>\n",
       "      <td>23434.000000</td>\n",
       "      <td>2125.000000</td>\n",
       "      <td>2018-11-02 12:00:00</td>\n",
       "      <td>1.000000</td>\n",
       "      <td>11.850000</td>\n",
       "    </tr>\n",
       "    <tr>\n",
       "      <th>50%</th>\n",
       "      <td>2019-05-20 00:00:00</td>\n",
       "      <td>2019-05-22 00:00:00</td>\n",
       "      <td>84.420000</td>\n",
       "      <td>3.000000</td>\n",
       "      <td>0.250000</td>\n",
       "      <td>0.190000</td>\n",
       "      <td>58103.000000</td>\n",
       "      <td>3688.000000</td>\n",
       "      <td>2019-05-24 00:00:00</td>\n",
       "      <td>1.000000</td>\n",
       "      <td>29.500000</td>\n",
       "    </tr>\n",
       "    <tr>\n",
       "      <th>75%</th>\n",
       "      <td>2019-09-26 00:00:00</td>\n",
       "      <td>2019-09-29 00:00:00</td>\n",
       "      <td>250.200000</td>\n",
       "      <td>5.000000</td>\n",
       "      <td>0.350000</td>\n",
       "      <td>0.290000</td>\n",
       "      <td>90049.000000</td>\n",
       "      <td>5636.000000</td>\n",
       "      <td>2019-09-29 00:00:00</td>\n",
       "      <td>1.000000</td>\n",
       "      <td>82.530000</td>\n",
       "    </tr>\n",
       "    <tr>\n",
       "      <th>max</th>\n",
       "      <td>2019-12-31 00:00:00</td>\n",
       "      <td>2020-01-07 00:00:00</td>\n",
       "      <td>17499.950000</td>\n",
       "      <td>14.000000</td>\n",
       "      <td>0.650000</td>\n",
       "      <td>8399.980000</td>\n",
       "      <td>99301.000000</td>\n",
       "      <td>98923.000000</td>\n",
       "      <td>2019-12-31 00:00:00</td>\n",
       "      <td>3.000000</td>\n",
       "      <td>3773.080000</td>\n",
       "    </tr>\n",
       "    <tr>\n",
       "      <th>std</th>\n",
       "      <td>NaN</td>\n",
       "      <td>NaN</td>\n",
       "      <td>486.130408</td>\n",
       "      <td>2.291836</td>\n",
       "      <td>0.136805</td>\n",
       "      <td>34.848237</td>\n",
       "      <td>32146.101866</td>\n",
       "      <td>10461.990118</td>\n",
       "      <td>NaN</td>\n",
       "      <td>0.221953</td>\n",
       "      <td>112.884619</td>\n",
       "    </tr>\n",
       "  </tbody>\n",
       "</table>\n",
       "</div>"
      ],
      "text/plain": [
       "                          order_date                      ship_date  \\\n",
       "count                         810642                         810642   \n",
       "mean   2019-04-03 22:55:52.596090368  2019-04-06 12:08:53.870191872   \n",
       "min              2018-01-01 00:00:00            2018-01-01 00:00:00   \n",
       "25%              2018-10-26 00:00:00            2018-10-29 00:00:00   \n",
       "50%              2019-05-20 00:00:00            2019-05-22 00:00:00   \n",
       "75%              2019-09-26 00:00:00            2019-09-29 00:00:00   \n",
       "max              2019-12-31 00:00:00            2020-01-07 00:00:00   \n",
       "std                              NaN                            NaN   \n",
       "\n",
       "               sales       quantity       discount         profit  \\\n",
       "count  810642.000000  810642.000000  810642.000000  810642.000000   \n",
       "mean      245.631329       3.474097       0.250913       1.244791   \n",
       "min         0.440000       1.000000       0.000000   -6599.980000   \n",
       "25%        30.480000       2.000000       0.130000       0.100000   \n",
       "50%        84.420000       3.000000       0.250000       0.190000   \n",
       "75%       250.200000       5.000000       0.350000       0.290000   \n",
       "max     17499.950000      14.000000       0.650000    8399.980000   \n",
       "std       486.130408       2.291836       0.136805      34.848237   \n",
       "\n",
       "         postal_code      region_id                    return_date  \\\n",
       "count  156251.000000  810484.000000                          39895   \n",
       "mean    55418.627426    6373.884152  2019-04-07 07:02:55.330242304   \n",
       "min      1040.000000      38.000000            2018-01-01 00:00:00   \n",
       "25%     23434.000000    2125.000000            2018-11-02 12:00:00   \n",
       "50%     58103.000000    3688.000000            2019-05-24 00:00:00   \n",
       "75%     90049.000000    5636.000000            2019-09-29 00:00:00   \n",
       "max     99301.000000   98923.000000            2019-12-31 00:00:00   \n",
       "std     32146.101866   10461.990118                            NaN   \n",
       "\n",
       "       return_quantity  product_cost_to_consumer  \n",
       "count     39895.000000             811878.000000  \n",
       "mean          1.046347                 71.427826  \n",
       "min           1.000000                  0.420000  \n",
       "25%           1.000000                 11.850000  \n",
       "50%           1.000000                 29.500000  \n",
       "75%           1.000000                 82.530000  \n",
       "max           3.000000               3773.080000  \n",
       "std           0.221953                112.884619  "
      ]
     },
     "execution_count": 12,
     "metadata": {},
     "output_type": "execute_result"
    }
   ],
   "source": [
    "df_merged.describe()"
   ]
  },
  {
   "cell_type": "markdown",
   "id": "2f57e604-c15a-41dd-b5bb-2b5cc72f71ae",
   "metadata": {},
   "source": [
    "# Get summary statistics for just sales and profit columns"
   ]
  },
  {
   "cell_type": "code",
   "execution_count": 13,
   "id": "02840205-39b8-44b3-b04e-4cb16d9ed5d2",
   "metadata": {},
   "outputs": [
    {
     "data": {
      "text/html": [
       "<div>\n",
       "<style scoped>\n",
       "    .dataframe tbody tr th:only-of-type {\n",
       "        vertical-align: middle;\n",
       "    }\n",
       "\n",
       "    .dataframe tbody tr th {\n",
       "        vertical-align: top;\n",
       "    }\n",
       "\n",
       "    .dataframe thead th {\n",
       "        text-align: right;\n",
       "    }\n",
       "</style>\n",
       "<table border=\"1\" class=\"dataframe\">\n",
       "  <thead>\n",
       "    <tr style=\"text-align: right;\">\n",
       "      <th></th>\n",
       "      <th>sales</th>\n",
       "      <th>profit</th>\n",
       "    </tr>\n",
       "  </thead>\n",
       "  <tbody>\n",
       "    <tr>\n",
       "      <th>count</th>\n",
       "      <td>810642.000000</td>\n",
       "      <td>810642.000000</td>\n",
       "    </tr>\n",
       "    <tr>\n",
       "      <th>mean</th>\n",
       "      <td>245.631329</td>\n",
       "      <td>1.244791</td>\n",
       "    </tr>\n",
       "    <tr>\n",
       "      <th>std</th>\n",
       "      <td>486.130408</td>\n",
       "      <td>34.848237</td>\n",
       "    </tr>\n",
       "    <tr>\n",
       "      <th>min</th>\n",
       "      <td>0.440000</td>\n",
       "      <td>-6599.980000</td>\n",
       "    </tr>\n",
       "    <tr>\n",
       "      <th>25%</th>\n",
       "      <td>30.480000</td>\n",
       "      <td>0.100000</td>\n",
       "    </tr>\n",
       "    <tr>\n",
       "      <th>50%</th>\n",
       "      <td>84.420000</td>\n",
       "      <td>0.190000</td>\n",
       "    </tr>\n",
       "    <tr>\n",
       "      <th>75%</th>\n",
       "      <td>250.200000</td>\n",
       "      <td>0.290000</td>\n",
       "    </tr>\n",
       "    <tr>\n",
       "      <th>max</th>\n",
       "      <td>17499.950000</td>\n",
       "      <td>8399.980000</td>\n",
       "    </tr>\n",
       "  </tbody>\n",
       "</table>\n",
       "</div>"
      ],
      "text/plain": [
       "               sales         profit\n",
       "count  810642.000000  810642.000000\n",
       "mean      245.631329       1.244791\n",
       "std       486.130408      34.848237\n",
       "min         0.440000   -6599.980000\n",
       "25%        30.480000       0.100000\n",
       "50%        84.420000       0.190000\n",
       "75%       250.200000       0.290000\n",
       "max     17499.950000    8399.980000"
      ]
     },
     "execution_count": 13,
     "metadata": {},
     "output_type": "execute_result"
    }
   ],
   "source": [
    "df_merged[['sales','profit']].describe()"
   ]
  },
  {
   "cell_type": "markdown",
   "id": "fd597089-1376-4d02-bc1f-0df24fbe24f7",
   "metadata": {},
   "source": [
    "# Show a table of shipping modes"
   ]
  },
  {
   "cell_type": "code",
   "execution_count": 14,
   "id": "98e7acb2-0888-4503-bc0a-e0b601e254a2",
   "metadata": {
    "tags": []
   },
   "outputs": [
    {
     "data": {
      "text/html": [
       "<div>\n",
       "<style scoped>\n",
       "    .dataframe tbody tr th:only-of-type {\n",
       "        vertical-align: middle;\n",
       "    }\n",
       "\n",
       "    .dataframe tbody tr th {\n",
       "        vertical-align: top;\n",
       "    }\n",
       "\n",
       "    .dataframe thead th {\n",
       "        text-align: right;\n",
       "    }\n",
       "</style>\n",
       "<table border=\"1\" class=\"dataframe\">\n",
       "  <thead>\n",
       "    <tr style=\"text-align: right;\">\n",
       "      <th></th>\n",
       "      <th>ship_mode</th>\n",
       "      <th>order_id</th>\n",
       "    </tr>\n",
       "  </thead>\n",
       "  <tbody>\n",
       "    <tr>\n",
       "      <th>3</th>\n",
       "      <td>Standard Class</td>\n",
       "      <td>325508</td>\n",
       "    </tr>\n",
       "    <tr>\n",
       "      <th>2</th>\n",
       "      <td>Second Class</td>\n",
       "      <td>274487</td>\n",
       "    </tr>\n",
       "    <tr>\n",
       "      <th>1</th>\n",
       "      <td>Same Day</td>\n",
       "      <td>169610</td>\n",
       "    </tr>\n",
       "    <tr>\n",
       "      <th>0</th>\n",
       "      <td>First Class</td>\n",
       "      <td>41037</td>\n",
       "    </tr>\n",
       "  </tbody>\n",
       "</table>\n",
       "</div>"
      ],
      "text/plain": [
       "        ship_mode  order_id\n",
       "3  Standard Class    325508\n",
       "2    Second Class    274487\n",
       "1        Same Day    169610\n",
       "0     First Class     41037"
      ]
     },
     "execution_count": 14,
     "metadata": {},
     "output_type": "execute_result"
    }
   ],
   "source": [
    "df_merged.groupby(['ship_mode'], as_index=False)['order_id'].count().sort_values(by='ship_mode', ascending=False)"
   ]
  },
  {
   "cell_type": "markdown",
   "id": "e37a3868-d6c6-4a52-b628-af390b360e5a",
   "metadata": {},
   "source": [
    "# A quick plot of shipping modes"
   ]
  },
  {
   "cell_type": "code",
   "execution_count": 15,
   "id": "d03a4215-0467-468d-9da7-db344d61d8e5",
   "metadata": {},
   "outputs": [
    {
     "data": {
      "image/png": "[encoded data removed]",
      "text/plain": [
       "<Figure size 640x480 with 1 Axes>"
      ]
     },
     "metadata": {},
     "output_type": "display_data"
    }
   ],
   "source": [
    "ax = sns.countplot(x = 'ship_mode', data = df_merged)"
   ]
  },
  {
   "cell_type": "markdown",
   "id": "46b494fe-5215-41fe-84fa-777be9231f20",
   "metadata": {},
   "source": [
    "# Write the output to a zipped .csv"
   ]
  },
  {
   "cell_type": "code",
   "execution_count": 16,
   "id": "981bea81-4d65-4a29-8cdc-90b822e076d6",
   "metadata": {
    "tags": []
   },
   "outputs": [],
   "source": [
    "merged_output_csv = Path.cwd() / str('superstore_merged.zip')\n",
    "\n",
    "if merged_output_csv.exists():\n",
    "    merged_output_csv.unlink()\n",
    "    \n",
    "df_merged.to_csv(\n",
    "    str(merged_output_csv),\n",
    "    index = False,\n",
    "    #compression = compression_opts\n",
    "    compression = dict(\n",
    "        method = 'zip',\n",
    "        archive_name = merged_output_csv.name.replace('.zip', '.csv')\n",
    "    )\n",
    ")"
   ]
  },
  {
   "cell_type": "markdown",
   "id": "2374f4ad-2b82-41e1-9e3a-2638081e2607",
   "metadata": {},
   "source": [
    "# this is just here so you can keep the dataframe for a while\n",
    "  just in case you need to poke around some more"
   ]
  },
  {
   "cell_type": "code",
   "execution_count": 17,
   "id": "9fac9b13-a622-4acc-9415-9a0900953f04",
   "metadata": {},
   "outputs": [],
   "source": [
    "#_ = input(\"Just hit ENTER to continue.\")"
   ]
  },
  {
   "cell_type": "markdown",
   "id": "7b52fcb2-c806-4d3f-9872-4d802cd12749",
   "metadata": {},
   "source": [
    "# Drop all columns"
   ]
  },
  {
   "cell_type": "code",
   "execution_count": 18,
   "id": "91a17fba-ddb2-4790-862b-7ac766eb2d30",
   "metadata": {
    "tags": []
   },
   "outputs": [
    {
     "data": {
      "text/plain": [
       "(812673, 26)"
      ]
     },
     "execution_count": 18,
     "metadata": {},
     "output_type": "execute_result"
    }
   ],
   "source": [
    "df_merged.shape"
   ]
  },
  {
   "cell_type": "code",
   "execution_count": 19,
   "id": "0edfcd5d-f9d9-42eb-baa6-cc5fcc7a4174",
   "metadata": {
    "tags": []
   },
   "outputs": [],
   "source": [
    "# method 1\n",
    "df_merged.drop(df_merged.index, inplace=True)\n",
    "\n",
    "# method 2\n",
    "#df.iloc[0:0]"
   ]
  },
  {
   "cell_type": "code",
   "execution_count": 20,
   "id": "06d2b6ac-abe3-45ae-90d5-fdf1e56421ca",
   "metadata": {
    "tags": []
   },
   "outputs": [
    {
     "data": {
      "text/plain": [
       "(0, 26)"
      ]
     },
     "execution_count": 20,
     "metadata": {},
     "output_type": "execute_result"
    }
   ],
   "source": [
    "df_merged.shape"
   ]
  },
  {
   "cell_type": "markdown",
   "id": "b60c7032-a2ba-4234-ad51-524e5aa70f21",
   "metadata": {},
   "source": [
    "# Delete the dataframe"
   ]
  },
  {
   "cell_type": "markdown",
   "id": "92668ab4-fe0f-4c67-8104-eb0f5df82381",
   "metadata": {},
   "source": [
    "We're done, so free the memory"
   ]
  },
  {
   "cell_type": "code",
   "execution_count": 21,
   "id": "b7d3f54f-6401-42e3-8d92-cc50d05b4dd6",
   "metadata": {
    "tags": []
   },
   "outputs": [],
   "source": [
    "del df_merged"
   ]
  },
  {
   "cell_type": "code",
   "execution_count": null,
   "id": "73f3c138-52f1-4175-bbe2-3fcdbcb74bec",
   "metadata": {},
   "outputs": [],
   "source": []
  }
 ],
 "metadata": {
  "kernelspec": {
   "display_name": "Python 3 (ipykernel)",
   "language": "python",
   "name": "python3"
  },
  "language_info": {
   "codemirror_mode": {
    "name": "ipython",
    "version": 3
   },
   "file_extension": ".py",
   "mimetype": "text/x-python",
   "name": "python",
   "nbconvert_exporter": "python",
   "pygments_lexer": "ipython3",
   "version": "3.11.5"
  }
 },
 "nbformat": 4,
 "nbformat_minor": 5
}
